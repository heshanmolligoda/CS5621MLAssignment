{
 "cells": [
  {
   "cell_type": "code",
   "execution_count": 78,
   "metadata": {},
   "outputs": [],
   "source": [
    "#import Libraies\n",
    "from keras.datasets import mnist\n",
    "from tensorflow.keras import utils as np_utils\n",
    "from keras.utils import to_categorical\n",
    "import matplotlib.pyplot as plt\n",
    "from keras.models import Sequential, Model\n",
    "from keras.layers import Dense, Dropout, Flatten,Conv2D, MaxPooling2D,GaussianNoise, Input, UpSampling2D\n",
    "import numpy as np\n",
    "from sklearn.preprocessing import StandardScaler\n",
    "from sklearn.decomposition import PCA"
   ]
  },
  {
   "cell_type": "code",
   "execution_count": 64,
   "metadata": {},
   "outputs": [
    {
     "name": "stdout",
     "output_type": "stream",
     "text": [
      "Train: X=(60000, 28, 28), y=(60000,)\n",
      "Test: X=(10000, 28, 28), y=(10000,)\n"
     ]
    }
   ],
   "source": [
    "#load mnist\n",
    "(x_train, y_train), (x_test, y_test) = mnist.load_data()\n",
    "#print data set\n",
    "print('Train: X=%s, y=%s' % (x_train.shape, y_train.shape))\n",
    "print('Test: X=%s, y=%s' % (x_test.shape, y_test.shape))\n"
   ]
  },
  {
   "cell_type": "code",
   "execution_count": 65,
   "metadata": {},
   "outputs": [],
   "source": [
    "# Normalise pixel values by first converting float and divide by maximum pixel values\n",
    "x_train = x_train.astype('float32')\n",
    "x_train /= 255\n",
    "x_test = x_test.astype('float32')\n",
    "x_test /= 255"
   ]
  },
  {
   "cell_type": "code",
   "execution_count": 19,
   "metadata": {},
   "outputs": [],
   "source": [
    "#convert data into Categorical for that TF understands, there are 10 classes 0,1,2,3...9\n",
    "y_train = to_categorical(y_train)\n",
    "y_test = to_categorical(y_test)"
   ]
  },
  {
   "cell_type": "code",
   "execution_count": 22,
   "metadata": {},
   "outputs": [],
   "source": [
    "#reshape train dataset and substract means \n",
    "x_train = x_train.reshape(x_train.shape[0], 28*28)\n",
    "x_test = x_test.reshape(x_test.shape[0], 28*28)\n"
   ]
  },
  {
   "cell_type": "code",
   "execution_count": 29,
   "metadata": {},
   "outputs": [],
   "source": [
    "scaler = StandardScaler()\n",
    "scaler.fit(x_train)\n",
    "x_sc_train = scaler.transform(x_train)\n",
    "x_sc_test = scaler.transform(x_test)"
   ]
  },
  {
   "cell_type": "code",
   "execution_count": 25,
   "metadata": {},
   "outputs": [
    {
     "data": {
      "text/plain": [
       "Text(0, 0.5, 'Cumulative explained variance')"
      ]
     },
     "execution_count": 25,
     "metadata": {},
     "output_type": "execute_result"
    },
    {
     "data": {
      "image/png": "[encoded data removed]",
      "text/plain": [
       "<Figure size 432x288 with 1 Axes>"
      ]
     },
     "metadata": {
      "needs_background": "light"
     },
     "output_type": "display_data"
    }
   ],
   "source": [
    "pca = PCA(n_components=500)\n",
    "pca.fit(x_train)\n",
    "\n",
    "plt.plot(np.cumsum(pca.explained_variance_ratio_))\n",
    "plt.xlabel('Number of components')\n",
    "plt.ylabel('Cumulative explained variance')"
   ]
  },
  {
   "cell_type": "code",
   "execution_count": 35,
   "metadata": {},
   "outputs": [
    {
     "name": "stdout",
     "output_type": "stream",
     "text": [
      "(60000, 784)\n",
      "(60000, 100)\n"
     ]
    }
   ],
   "source": [
    "pca = PCA(n_components=100)\n",
    "x_pca_train = pca.fit_transform(x_sc_train)\n",
    "x_pca_test = pca.transform(x_sc_test)\n",
    "pca_std = np.std(x_pca_train)\n",
    "\n",
    "print(x_sc_train.shape)\n",
    "print(x_pca_train.shape)"
   ]
  },
  {
   "cell_type": "code",
   "execution_count": 36,
   "metadata": {},
   "outputs": [],
   "source": [
    "inv_pca = pca.inverse_transform(x_pca_train)\n",
    "inv_sc = scaler.inverse_transform(inv_pca)"
   ]
  },
  {
   "cell_type": "code",
   "execution_count": 55,
   "metadata": {},
   "outputs": [],
   "source": [
    "#sequential model\n",
    "model = Sequential()\n",
    "#desnse layer with 100 nodes\n",
    "model.add(Dense(100, activation='relu', kernel_initializer='he_uniform'))\n",
    "model.add(GaussianNoise(pca_std))\n",
    "model.add(Dropout(0.1))\n",
    "model.add(Dense(100, input_dim=100, activation='relu'))\n",
    "model.add(Dense(10, activation='softmax'))\n",
    "\n",
    "model.compile(loss='categorical_crossentropy', optimizer='rmsprop', metrics=['accuracy'])\n"
   ]
  },
  {
   "cell_type": "code",
   "execution_count": 56,
   "metadata": {},
   "outputs": [
    {
     "name": "stdout",
     "output_type": "stream",
     "text": [
      "Epoch 1/100\n",
      "1875/1875 - 2s - loss: 0.6352 - accuracy: 0.8098 - val_loss: 0.2001 - val_accuracy: 0.9407\n",
      "Epoch 2/100\n",
      "1875/1875 - 2s - loss: 0.2932 - accuracy: 0.9134 - val_loss: 0.1667 - val_accuracy: 0.9514\n",
      "Epoch 3/100\n",
      "1875/1875 - 2s - loss: 0.2368 - accuracy: 0.9302 - val_loss: 0.1331 - val_accuracy: 0.9605\n",
      "Epoch 4/100\n",
      "1875/1875 - 2s - loss: 0.2076 - accuracy: 0.9407 - val_loss: 0.1198 - val_accuracy: 0.9656\n",
      "Epoch 5/100\n",
      "1875/1875 - 2s - loss: 0.1940 - accuracy: 0.9459 - val_loss: 0.1238 - val_accuracy: 0.9665\n",
      "Epoch 6/100\n",
      "1875/1875 - 2s - loss: 0.1804 - accuracy: 0.9502 - val_loss: 0.1224 - val_accuracy: 0.9667\n",
      "Epoch 7/100\n",
      "1875/1875 - 2s - loss: 0.1724 - accuracy: 0.9524 - val_loss: 0.1178 - val_accuracy: 0.9679\n",
      "Epoch 8/100\n",
      "1875/1875 - 2s - loss: 0.1659 - accuracy: 0.9551 - val_loss: 0.1178 - val_accuracy: 0.9705\n",
      "Epoch 9/100\n",
      "1875/1875 - 2s - loss: 0.1661 - accuracy: 0.9557 - val_loss: 0.1190 - val_accuracy: 0.9694\n",
      "Epoch 10/100\n",
      "1875/1875 - 2s - loss: 0.1621 - accuracy: 0.9578 - val_loss: 0.1227 - val_accuracy: 0.9710\n",
      "Epoch 11/100\n",
      "1875/1875 - 2s - loss: 0.1549 - accuracy: 0.9591 - val_loss: 0.1194 - val_accuracy: 0.9710\n",
      "Epoch 12/100\n",
      "1875/1875 - 2s - loss: 0.1547 - accuracy: 0.9603 - val_loss: 0.1334 - val_accuracy: 0.9715\n",
      "Epoch 13/100\n",
      "1875/1875 - 2s - loss: 0.1520 - accuracy: 0.9609 - val_loss: 0.1325 - val_accuracy: 0.9701\n",
      "Epoch 14/100\n",
      "1875/1875 - 2s - loss: 0.1540 - accuracy: 0.9603 - val_loss: 0.1306 - val_accuracy: 0.9710\n",
      "Epoch 15/100\n",
      "1875/1875 - 2s - loss: 0.1510 - accuracy: 0.9628 - val_loss: 0.1316 - val_accuracy: 0.9737\n",
      "Epoch 16/100\n",
      "1875/1875 - 2s - loss: 0.1481 - accuracy: 0.9621 - val_loss: 0.1336 - val_accuracy: 0.9729\n",
      "Epoch 17/100\n",
      "1875/1875 - 2s - loss: 0.1498 - accuracy: 0.9637 - val_loss: 0.1423 - val_accuracy: 0.9724\n",
      "Epoch 18/100\n",
      "1875/1875 - 2s - loss: 0.1510 - accuracy: 0.9629 - val_loss: 0.1388 - val_accuracy: 0.9722\n",
      "Epoch 19/100\n",
      "1875/1875 - 2s - loss: 0.1508 - accuracy: 0.9645 - val_loss: 0.1385 - val_accuracy: 0.9745\n",
      "Epoch 20/100\n",
      "1875/1875 - 2s - loss: 0.1473 - accuracy: 0.9652 - val_loss: 0.1418 - val_accuracy: 0.9744\n",
      "Epoch 21/100\n",
      "1875/1875 - 2s - loss: 0.1464 - accuracy: 0.9657 - val_loss: 0.1502 - val_accuracy: 0.9743\n",
      "Epoch 22/100\n",
      "1875/1875 - 2s - loss: 0.1521 - accuracy: 0.9652 - val_loss: 0.1425 - val_accuracy: 0.9731\n",
      "Epoch 23/100\n",
      "1875/1875 - 2s - loss: 0.1455 - accuracy: 0.9663 - val_loss: 0.1618 - val_accuracy: 0.9734\n",
      "Epoch 24/100\n",
      "1875/1875 - 2s - loss: 0.1417 - accuracy: 0.9668 - val_loss: 0.1755 - val_accuracy: 0.9716\n",
      "Epoch 25/100\n",
      "1875/1875 - 2s - loss: 0.1496 - accuracy: 0.9670 - val_loss: 0.1797 - val_accuracy: 0.9749\n",
      "Epoch 26/100\n",
      "1875/1875 - 2s - loss: 0.1454 - accuracy: 0.9673 - val_loss: 0.1578 - val_accuracy: 0.9734\n",
      "Epoch 27/100\n",
      "1875/1875 - 2s - loss: 0.1441 - accuracy: 0.9679 - val_loss: 0.1639 - val_accuracy: 0.9738\n",
      "Epoch 28/100\n",
      "1875/1875 - 2s - loss: 0.1459 - accuracy: 0.9671 - val_loss: 0.1740 - val_accuracy: 0.9729\n",
      "Epoch 29/100\n",
      "1875/1875 - 2s - loss: 0.1471 - accuracy: 0.9673 - val_loss: 0.1571 - val_accuracy: 0.9745\n",
      "Epoch 30/100\n",
      "1875/1875 - 2s - loss: 0.1465 - accuracy: 0.9679 - val_loss: 0.1567 - val_accuracy: 0.9727\n",
      "Epoch 31/100\n",
      "1875/1875 - 2s - loss: 0.1497 - accuracy: 0.9675 - val_loss: 0.1652 - val_accuracy: 0.9725\n",
      "Epoch 32/100\n",
      "1875/1875 - 2s - loss: 0.1466 - accuracy: 0.9674 - val_loss: 0.1696 - val_accuracy: 0.9745\n",
      "Epoch 33/100\n",
      "1875/1875 - 2s - loss: 0.1456 - accuracy: 0.9696 - val_loss: 0.1617 - val_accuracy: 0.9758\n",
      "Epoch 34/100\n",
      "1875/1875 - 2s - loss: 0.1469 - accuracy: 0.9682 - val_loss: 0.1684 - val_accuracy: 0.9732\n",
      "Epoch 35/100\n",
      "1875/1875 - 2s - loss: 0.1492 - accuracy: 0.9686 - val_loss: 0.1621 - val_accuracy: 0.9737\n",
      "Epoch 36/100\n",
      "1875/1875 - 2s - loss: 0.1419 - accuracy: 0.9687 - val_loss: 0.1603 - val_accuracy: 0.9751\n",
      "Epoch 37/100\n",
      "1875/1875 - 2s - loss: 0.1469 - accuracy: 0.9688 - val_loss: 0.1739 - val_accuracy: 0.9740\n",
      "Epoch 38/100\n",
      "1875/1875 - 2s - loss: 0.1439 - accuracy: 0.9699 - val_loss: 0.1866 - val_accuracy: 0.9733\n",
      "Epoch 39/100\n",
      "1875/1875 - 2s - loss: 0.1546 - accuracy: 0.9689 - val_loss: 0.1912 - val_accuracy: 0.9729\n",
      "Epoch 40/100\n",
      "1875/1875 - 2s - loss: 0.1503 - accuracy: 0.9702 - val_loss: 0.1621 - val_accuracy: 0.9752\n",
      "Epoch 41/100\n",
      "1875/1875 - 2s - loss: 0.1506 - accuracy: 0.9692 - val_loss: 0.1904 - val_accuracy: 0.9734\n",
      "Epoch 42/100\n",
      "1875/1875 - 2s - loss: 0.1464 - accuracy: 0.9692 - val_loss: 0.2065 - val_accuracy: 0.9725\n",
      "Epoch 43/100\n",
      "1875/1875 - 2s - loss: 0.1465 - accuracy: 0.9700 - val_loss: 0.1821 - val_accuracy: 0.9715\n",
      "Epoch 44/100\n",
      "1875/1875 - 2s - loss: 0.1476 - accuracy: 0.9696 - val_loss: 0.1697 - val_accuracy: 0.9762\n",
      "Epoch 45/100\n",
      "1875/1875 - 2s - loss: 0.1507 - accuracy: 0.9700 - val_loss: 0.1754 - val_accuracy: 0.9740\n",
      "Epoch 46/100\n",
      "1875/1875 - 2s - loss: 0.1458 - accuracy: 0.9707 - val_loss: 0.1863 - val_accuracy: 0.9744\n",
      "Epoch 47/100\n",
      "1875/1875 - 2s - loss: 0.1480 - accuracy: 0.9702 - val_loss: 0.1776 - val_accuracy: 0.9747\n",
      "Epoch 48/100\n",
      "1875/1875 - 2s - loss: 0.1442 - accuracy: 0.9717 - val_loss: 0.1841 - val_accuracy: 0.9729\n",
      "Epoch 49/100\n",
      "1875/1875 - 2s - loss: 0.1430 - accuracy: 0.9703 - val_loss: 0.1874 - val_accuracy: 0.9730\n",
      "Epoch 50/100\n",
      "1875/1875 - 2s - loss: 0.1470 - accuracy: 0.9713 - val_loss: 0.2125 - val_accuracy: 0.9746\n",
      "Epoch 51/100\n",
      "1875/1875 - 2s - loss: 0.1533 - accuracy: 0.9699 - val_loss: 0.2260 - val_accuracy: 0.9758\n",
      "Epoch 52/100\n",
      "1875/1875 - 2s - loss: 0.1570 - accuracy: 0.9707 - val_loss: 0.1977 - val_accuracy: 0.9745\n",
      "Epoch 53/100\n",
      "1875/1875 - 2s - loss: 0.1443 - accuracy: 0.9715 - val_loss: 0.1945 - val_accuracy: 0.9718\n",
      "Epoch 54/100\n",
      "1875/1875 - 2s - loss: 0.1508 - accuracy: 0.9707 - val_loss: 0.1918 - val_accuracy: 0.9736\n",
      "Epoch 55/100\n",
      "1875/1875 - 2s - loss: 0.1521 - accuracy: 0.9709 - val_loss: 0.2006 - val_accuracy: 0.9740\n",
      "Epoch 56/100\n",
      "1875/1875 - 2s - loss: 0.1460 - accuracy: 0.9726 - val_loss: 0.1837 - val_accuracy: 0.9743\n",
      "Epoch 57/100\n",
      "1875/1875 - 2s - loss: 0.1547 - accuracy: 0.9708 - val_loss: 0.2196 - val_accuracy: 0.9722\n",
      "Epoch 58/100\n",
      "1875/1875 - 2s - loss: 0.1478 - accuracy: 0.9712 - val_loss: 0.2312 - val_accuracy: 0.9729\n",
      "Epoch 59/100\n",
      "1875/1875 - 2s - loss: 0.1452 - accuracy: 0.9716 - val_loss: 0.2101 - val_accuracy: 0.9726\n",
      "Epoch 60/100\n",
      "1875/1875 - 2s - loss: 0.1439 - accuracy: 0.9727 - val_loss: 0.2323 - val_accuracy: 0.9742\n",
      "Epoch 61/100\n",
      "1875/1875 - 2s - loss: 0.1500 - accuracy: 0.9715 - val_loss: 0.2092 - val_accuracy: 0.9747\n",
      "Epoch 62/100\n",
      "1875/1875 - 2s - loss: 0.1518 - accuracy: 0.9719 - val_loss: 0.2214 - val_accuracy: 0.9728\n",
      "Epoch 63/100\n",
      "1875/1875 - 2s - loss: 0.1519 - accuracy: 0.9719 - val_loss: 0.2305 - val_accuracy: 0.9750\n",
      "Epoch 64/100\n",
      "1875/1875 - 2s - loss: 0.1507 - accuracy: 0.9722 - val_loss: 0.2310 - val_accuracy: 0.9748\n",
      "Epoch 65/100\n",
      "1875/1875 - 2s - loss: 0.1481 - accuracy: 0.9731 - val_loss: 0.2138 - val_accuracy: 0.9737\n",
      "Epoch 66/100\n",
      "1875/1875 - 2s - loss: 0.1561 - accuracy: 0.9725 - val_loss: 0.2034 - val_accuracy: 0.9728\n",
      "Epoch 67/100\n",
      "1875/1875 - 2s - loss: 0.1538 - accuracy: 0.9722 - val_loss: 0.2289 - val_accuracy: 0.9753\n",
      "Epoch 68/100\n",
      "1875/1875 - 2s - loss: 0.1545 - accuracy: 0.9711 - val_loss: 0.2309 - val_accuracy: 0.9733\n",
      "Epoch 69/100\n",
      "1875/1875 - 2s - loss: 0.1529 - accuracy: 0.9718 - val_loss: 0.2379 - val_accuracy: 0.9745\n",
      "Epoch 70/100\n",
      "1875/1875 - 2s - loss: 0.1464 - accuracy: 0.9728 - val_loss: 0.2335 - val_accuracy: 0.9739\n",
      "Epoch 71/100\n",
      "1875/1875 - 2s - loss: 0.1445 - accuracy: 0.9741 - val_loss: 0.2605 - val_accuracy: 0.9749\n",
      "Epoch 72/100\n",
      "1875/1875 - 2s - loss: 0.1625 - accuracy: 0.9722 - val_loss: 0.2376 - val_accuracy: 0.9746\n",
      "Epoch 73/100\n",
      "1875/1875 - 2s - loss: 0.1485 - accuracy: 0.9727 - val_loss: 0.2331 - val_accuracy: 0.9737\n",
      "Epoch 74/100\n",
      "1875/1875 - 2s - loss: 0.1488 - accuracy: 0.9722 - val_loss: 0.2119 - val_accuracy: 0.9749\n",
      "Epoch 75/100\n",
      "1875/1875 - 2s - loss: 0.1603 - accuracy: 0.9730 - val_loss: 0.2264 - val_accuracy: 0.9767\n",
      "Epoch 76/100\n",
      "1875/1875 - 2s - loss: 0.1486 - accuracy: 0.9743 - val_loss: 0.2291 - val_accuracy: 0.9756\n",
      "Epoch 77/100\n",
      "1875/1875 - 2s - loss: 0.1498 - accuracy: 0.9734 - val_loss: 0.2715 - val_accuracy: 0.9740\n",
      "Epoch 78/100\n",
      "1875/1875 - 2s - loss: 0.1518 - accuracy: 0.9731 - val_loss: 0.2707 - val_accuracy: 0.9745\n",
      "Epoch 79/100\n",
      "1875/1875 - 2s - loss: 0.1572 - accuracy: 0.9736 - val_loss: 0.2571 - val_accuracy: 0.9753\n"
     ]
    },
    {
     "name": "stdout",
     "output_type": "stream",
     "text": [
      "Epoch 80/100\n",
      "1875/1875 - 2s - loss: 0.1487 - accuracy: 0.9738 - val_loss: 0.2418 - val_accuracy: 0.9760\n",
      "Epoch 81/100\n",
      "1875/1875 - 2s - loss: 0.1589 - accuracy: 0.9732 - val_loss: 0.2585 - val_accuracy: 0.9758\n",
      "Epoch 82/100\n",
      "1875/1875 - 2s - loss: 0.1544 - accuracy: 0.9736 - val_loss: 0.2352 - val_accuracy: 0.9734\n",
      "Epoch 83/100\n",
      "1875/1875 - 2s - loss: 0.1481 - accuracy: 0.9735 - val_loss: 0.2377 - val_accuracy: 0.9742\n",
      "Epoch 84/100\n",
      "1875/1875 - 2s - loss: 0.1512 - accuracy: 0.9739 - val_loss: 0.2522 - val_accuracy: 0.9745\n",
      "Epoch 85/100\n",
      "1875/1875 - 2s - loss: 0.1579 - accuracy: 0.9728 - val_loss: 0.2631 - val_accuracy: 0.9740\n",
      "Epoch 86/100\n",
      "1875/1875 - 2s - loss: 0.1484 - accuracy: 0.9743 - val_loss: 0.2555 - val_accuracy: 0.9756\n",
      "Epoch 87/100\n",
      "1875/1875 - 2s - loss: 0.1477 - accuracy: 0.9746 - val_loss: 0.2690 - val_accuracy: 0.9739\n",
      "Epoch 88/100\n",
      "1875/1875 - 2s - loss: 0.1539 - accuracy: 0.9749 - val_loss: 0.2160 - val_accuracy: 0.9766\n",
      "Epoch 89/100\n",
      "1875/1875 - 2s - loss: 0.1651 - accuracy: 0.9744 - val_loss: 0.2637 - val_accuracy: 0.9738\n",
      "Epoch 90/100\n",
      "1875/1875 - 2s - loss: 0.1539 - accuracy: 0.9753 - val_loss: 0.2447 - val_accuracy: 0.9761\n",
      "Epoch 91/100\n",
      "1875/1875 - 2s - loss: 0.1580 - accuracy: 0.9746 - val_loss: 0.2286 - val_accuracy: 0.9770\n",
      "Epoch 92/100\n",
      "1875/1875 - 2s - loss: 0.1640 - accuracy: 0.9739 - val_loss: 0.2390 - val_accuracy: 0.9745\n",
      "Epoch 93/100\n",
      "1875/1875 - 2s - loss: 0.1591 - accuracy: 0.9743 - val_loss: 0.2655 - val_accuracy: 0.9747\n",
      "Epoch 94/100\n",
      "1875/1875 - 2s - loss: 0.1529 - accuracy: 0.9743 - val_loss: 0.2495 - val_accuracy: 0.9748\n",
      "Epoch 95/100\n",
      "1875/1875 - 2s - loss: 0.1529 - accuracy: 0.9743 - val_loss: 0.2753 - val_accuracy: 0.9754\n",
      "Epoch 96/100\n",
      "1875/1875 - 2s - loss: 0.1564 - accuracy: 0.9742 - val_loss: 0.2473 - val_accuracy: 0.9757\n",
      "Epoch 97/100\n",
      "1875/1875 - 2s - loss: 0.1556 - accuracy: 0.9751 - val_loss: 0.2461 - val_accuracy: 0.9766\n",
      "Epoch 98/100\n",
      "1875/1875 - 2s - loss: 0.1534 - accuracy: 0.9745 - val_loss: 0.2501 - val_accuracy: 0.9737\n",
      "Epoch 99/100\n",
      "1875/1875 - 2s - loss: 0.1561 - accuracy: 0.9750 - val_loss: 0.2929 - val_accuracy: 0.9748\n",
      "Epoch 100/100\n",
      "1875/1875 - 2s - loss: 0.1666 - accuracy: 0.9742 - val_loss: 0.3043 - val_accuracy: 0.9754\n"
     ]
    },
    {
     "data": {
      "text/plain": [
       "<tensorflow.python.keras.callbacks.History at 0x243a3447948>"
      ]
     },
     "execution_count": 56,
     "metadata": {},
     "output_type": "execute_result"
    }
   ],
   "source": [
    "model.fit(x_pca_train, y_train, epochs=100, batch_size=32, validation_data=(x_pca_test, y_test), verbose=1)"
   ]
  },
  {
   "cell_type": "code",
   "execution_count": 73,
   "metadata": {},
   "outputs": [
    {
     "name": "stdout",
     "output_type": "stream",
     "text": [
      "Train: X=(60000, 28, 28), y=(60000,)\n",
      "Test: X=(10000, 28, 28), y=(10000,)\n"
     ]
    }
   ],
   "source": [
    "#load mnist\n",
    "(x_train, y_train), (x_test, y_test) = mnist.load_data()\n",
    "#print data set\n",
    "print('Train: X=%s, y=%s' % (x_train.shape, y_train.shape))\n",
    "print('Test: X=%s, y=%s' % (x_test.shape, y_test.shape))"
   ]
  },
  {
   "cell_type": "code",
   "execution_count": 74,
   "metadata": {},
   "outputs": [
    {
     "name": "stdout",
     "output_type": "stream",
     "text": [
      "(60000, 28, 28, 1)\n"
     ]
    }
   ],
   "source": [
    "#Images are of size 28x28 and images are gray scale, lets reshape arrays to have single color channel\n",
    "x_train = x_train.reshape((x_train.shape[0], 28, 28, 1))\n",
    "x_test  = x_test.reshape((x_test.shape[0], 28, 28, 1))\n",
    "print(x_train.shape)"
   ]
  },
  {
   "cell_type": "code",
   "execution_count": 75,
   "metadata": {},
   "outputs": [],
   "source": [
    "# Normalise pixel values by first converting float and divide by maximum pixel values\n",
    "x_train = x_train.astype('float32')\n",
    "x_train /= 255\n",
    "x_test = x_test.astype('float32')\n",
    "x_test /= 255"
   ]
  },
  {
   "cell_type": "code",
   "execution_count": 76,
   "metadata": {},
   "outputs": [],
   "source": [
    "#Encoder\n",
    "encoder = Sequential()\n",
    "encoder.add(Conv2D(16, (3, 3), activation='relu', padding='same',\n",
    "                   input_shape=(28,28,1)))\n",
    "encoder.add(MaxPooling2D((2, 2), padding='same'))\n",
    "encoder.add(Conv2D(8, (3, 3), activation='relu', padding='same'))\n",
    "encoder.add(MaxPooling2D((2, 2), padding='same'))\n",
    "encoder.add(Conv2D(8, (3, 3), activation='relu', padding='same'))\n",
    "encoder.add(MaxPooling2D((4, 4), padding='same'))\n",
    "encoder.add(Conv2D(8, (1, 1), activation='sigmoid', padding='same'))"
   ]
  },
  {
   "cell_type": "code",
   "execution_count": 83,
   "metadata": {},
   "outputs": [],
   "source": [
    "#decoder\n",
    "decoder = Sequential()\n",
    "decoder.add(Conv2D(8, (3, 3), activation='relu', padding='same',\n",
    "                   input_shape=encoder.output_shape[1:]))\n",
    "decoder.add(UpSampling2D((4, 4)))\n",
    "decoder.add(Conv2D(8, (3, 3), activation='relu', padding='same'))\n",
    "decoder.add(UpSampling2D((2, 2)))\n",
    "decoder.add(Conv2D(16, (3, 3), activation='relu'))\n",
    "decoder.add(UpSampling2D((2, 2)))\n",
    "decoder.add(Conv2D(1, (3, 3), activation='sigmoid', padding='same'))"
   ]
  },
  {
   "cell_type": "code",
   "execution_count": 84,
   "metadata": {},
   "outputs": [],
   "source": [
    "#autoencoder\n",
    "autoencoder = Sequential()\n",
    "autoencoder.add(encoder)\n",
    "autoencoder.add(decoder)\n",
    "\n",
    "autoencoder.compile(optimizer='adadelta', loss='binary_crossentropy')"
   ]
  },
  {
   "cell_type": "code",
   "execution_count": 87,
   "metadata": {},
   "outputs": [
    {
     "name": "stdout",
     "output_type": "stream",
     "text": [
      "Epoch 1/100\n",
      "118/118 [==============================] - 36s 307ms/step - loss: 0.3914 - val_loss: 0.3936\n",
      "Epoch 2/100\n",
      "118/118 [==============================] - 41s 351ms/step - loss: 0.3892 - val_loss: 0.3913\n",
      "Epoch 3/100\n",
      "118/118 [==============================] - 40s 341ms/step - loss: 0.3870 - val_loss: 0.3890\n",
      "Epoch 4/100\n",
      "118/118 [==============================] - 41s 348ms/step - loss: 0.3847 - val_loss: 0.3868\n",
      "Epoch 5/100\n",
      "118/118 [==============================] - 41s 344ms/step - loss: 0.3827 - val_loss: 0.3848\n",
      "Epoch 6/100\n",
      "118/118 [==============================] - 41s 345ms/step - loss: 0.3807 - val_loss: 0.3828\n",
      "Epoch 7/100\n",
      "118/118 [==============================] - 46s 391ms/step - loss: 0.3787 - val_loss: 0.3807\n",
      "Epoch 8/100\n",
      "118/118 [==============================] - 48s 406ms/step - loss: 0.3767 - val_loss: 0.3788\n",
      "Epoch 9/100\n",
      "118/118 [==============================] - 40s 339ms/step - loss: 0.3748 - val_loss: 0.3768\n",
      "Epoch 10/100\n",
      "118/118 [==============================] - 40s 342ms/step - loss: 0.3729 - val_loss: 0.3748\n",
      "Epoch 11/100\n",
      "118/118 [==============================] - 40s 338ms/step - loss: 0.3709 - val_loss: 0.3728\n",
      "Epoch 12/100\n",
      "118/118 [==============================] - 40s 340ms/step - loss: 0.3688 - val_loss: 0.3707\n",
      "Epoch 13/100\n",
      "118/118 [==============================] - 40s 341ms/step - loss: 0.3668 - val_loss: 0.3685\n",
      "Epoch 14/100\n",
      "118/118 [==============================] - 41s 344ms/step - loss: 0.3647 - val_loss: 0.3664\n",
      "Epoch 15/100\n",
      "118/118 [==============================] - 41s 349ms/step - loss: 0.3626 - val_loss: 0.3642\n",
      "Epoch 16/100\n",
      "118/118 [==============================] - 40s 342ms/step - loss: 0.3604 - val_loss: 0.3620\n",
      "Epoch 17/100\n",
      "118/118 [==============================] - 40s 343ms/step - loss: 0.3583 - val_loss: 0.3598\n",
      "Epoch 18/100\n",
      "118/118 [==============================] - 40s 343ms/step - loss: 0.3562 - val_loss: 0.3578\n",
      "Epoch 19/100\n",
      "118/118 [==============================] - 40s 341ms/step - loss: 0.3542 - val_loss: 0.3557\n",
      "Epoch 20/100\n",
      "118/118 [==============================] - 40s 340ms/step - loss: 0.3521 - val_loss: 0.3536\n",
      "Epoch 21/100\n",
      "118/118 [==============================] - 40s 342ms/step - loss: 0.3501 - val_loss: 0.3515\n",
      "Epoch 22/100\n",
      "118/118 [==============================] - 40s 340ms/step - loss: 0.3481 - val_loss: 0.3495\n",
      "Epoch 23/100\n",
      "118/118 [==============================] - 41s 344ms/step - loss: 0.3461 - val_loss: 0.3475\n",
      "Epoch 24/100\n",
      "118/118 [==============================] - 42s 357ms/step - loss: 0.3442 - val_loss: 0.3456\n",
      "Epoch 25/100\n",
      "118/118 [==============================] - 41s 346ms/step - loss: 0.3423 - val_loss: 0.3437\n",
      "Epoch 26/100\n",
      "118/118 [==============================] - 40s 340ms/step - loss: 0.3405 - val_loss: 0.3419\n",
      "Epoch 27/100\n",
      "118/118 [==============================] - 39s 334ms/step - loss: 0.3387 - val_loss: 0.3401\n",
      "Epoch 28/100\n",
      "118/118 [==============================] - 40s 336ms/step - loss: 0.3370 - val_loss: 0.3382\n",
      "Epoch 29/100\n",
      "118/118 [==============================] - 39s 332ms/step - loss: 0.3352 - val_loss: 0.3364\n",
      "Epoch 30/100\n",
      "118/118 [==============================] - 38s 325ms/step - loss: 0.3334 - val_loss: 0.3347\n",
      "Epoch 31/100\n",
      "118/118 [==============================] - 38s 321ms/step - loss: 0.3318 - val_loss: 0.3330\n",
      "Epoch 32/100\n",
      "118/118 [==============================] - 38s 326ms/step - loss: 0.3302 - val_loss: 0.3313\n",
      "Epoch 33/100\n",
      "118/118 [==============================] - 40s 340ms/step - loss: 0.3286 - val_loss: 0.3297\n",
      "Epoch 34/100\n",
      "118/118 [==============================] - 38s 323ms/step - loss: 0.3271 - val_loss: 0.3282\n",
      "Epoch 35/100\n",
      "118/118 [==============================] - 39s 332ms/step - loss: 0.3256 - val_loss: 0.3267\n",
      "Epoch 36/100\n",
      "118/118 [==============================] - 38s 323ms/step - loss: 0.3242 - val_loss: 0.3253\n",
      "Epoch 37/100\n",
      "118/118 [==============================] - 39s 329ms/step - loss: 0.3229 - val_loss: 0.3240\n",
      "Epoch 38/100\n",
      "118/118 [==============================] - 39s 327ms/step - loss: 0.3216 - val_loss: 0.3227\n",
      "Epoch 39/100\n",
      "118/118 [==============================] - 38s 323ms/step - loss: 0.3204 - val_loss: 0.3215\n",
      "Epoch 40/100\n",
      "118/118 [==============================] - 41s 346ms/step - loss: 0.3192 - val_loss: 0.3203\n",
      "Epoch 41/100\n",
      "118/118 [==============================] - 38s 322ms/step - loss: 0.3181 - val_loss: 0.3192\n",
      "Epoch 42/100\n",
      "118/118 [==============================] - 38s 323ms/step - loss: 0.3170 - val_loss: 0.3181\n",
      "Epoch 43/100\n",
      "118/118 [==============================] - 38s 322ms/step - loss: 0.3159 - val_loss: 0.3169\n",
      "Epoch 44/100\n",
      "118/118 [==============================] - 38s 323ms/step - loss: 0.3149 - val_loss: 0.3159\n",
      "Epoch 45/100\n",
      "118/118 [==============================] - 38s 321ms/step - loss: 0.3138 - val_loss: 0.3148\n",
      "Epoch 46/100\n",
      "118/118 [==============================] - 38s 321ms/step - loss: 0.3129 - val_loss: 0.3139\n",
      "Epoch 47/100\n",
      "118/118 [==============================] - 38s 323ms/step - loss: 0.3119 - val_loss: 0.3129\n",
      "Epoch 48/100\n",
      "118/118 [==============================] - 38s 325ms/step - loss: 0.3110 - val_loss: 0.3120\n",
      "Epoch 49/100\n",
      "118/118 [==============================] - 42s 352ms/step - loss: 0.3101 - val_loss: 0.3110\n",
      "Epoch 50/100\n",
      "118/118 [==============================] - 40s 342ms/step - loss: 0.3092 - val_loss: 0.3101\n",
      "Epoch 51/100\n",
      "118/118 [==============================] - 40s 342ms/step - loss: 0.3084 - val_loss: 0.3094\n",
      "Epoch 52/100\n",
      "118/118 [==============================] - 40s 340ms/step - loss: 0.3077 - val_loss: 0.3086\n",
      "Epoch 53/100\n",
      "118/118 [==============================] - 43s 360ms/step - loss: 0.3070 - val_loss: 0.3079\n",
      "Epoch 54/100\n",
      "118/118 [==============================] - 40s 342ms/step - loss: 0.3062 - val_loss: 0.3071\n",
      "Epoch 55/100\n",
      "118/118 [==============================] - 40s 340ms/step - loss: 0.3055 - val_loss: 0.3064\n",
      "Epoch 56/100\n",
      "118/118 [==============================] - 40s 341ms/step - loss: 0.3048 - val_loss: 0.3057\n",
      "Epoch 57/100\n",
      "118/118 [==============================] - 42s 360ms/step - loss: 0.3041 - val_loss: 0.3050\n",
      "Epoch 58/100\n",
      "118/118 [==============================] - 41s 351ms/step - loss: 0.3035 - val_loss: 0.3044\n",
      "Epoch 59/100\n",
      "118/118 [==============================] - 41s 343ms/step - loss: 0.3029 - val_loss: 0.3038\n",
      "Epoch 60/100\n",
      "118/118 [==============================] - 41s 345ms/step - loss: 0.3023 - val_loss: 0.3032\n",
      "Epoch 61/100\n",
      "118/118 [==============================] - 40s 343ms/step - loss: 0.3018 - val_loss: 0.3027\n",
      "Epoch 62/100\n",
      "118/118 [==============================] - 40s 343ms/step - loss: 0.3013 - val_loss: 0.3022\n",
      "Epoch 63/100\n",
      "118/118 [==============================] - 41s 344ms/step - loss: 0.3008 - val_loss: 0.3017\n",
      "Epoch 64/100\n",
      "118/118 [==============================] - 40s 343ms/step - loss: 0.3004 - val_loss: 0.3013\n",
      "Epoch 65/100\n",
      "118/118 [==============================] - 41s 345ms/step - loss: 0.2999 - val_loss: 0.3008\n",
      "Epoch 66/100\n",
      "118/118 [==============================] - 41s 349ms/step - loss: 0.2995 - val_loss: 0.3004\n",
      "Epoch 67/100\n",
      "118/118 [==============================] - 41s 345ms/step - loss: 0.2991 - val_loss: 0.3000\n",
      "Epoch 68/100\n",
      "118/118 [==============================] - 41s 349ms/step - loss: 0.2987 - val_loss: 0.2995\n",
      "Epoch 69/100\n",
      "118/118 [==============================] - 41s 344ms/step - loss: 0.2982 - val_loss: 0.2991\n",
      "Epoch 70/100\n",
      "118/118 [==============================] - 42s 358ms/step - loss: 0.2978 - val_loss: 0.2987\n",
      "Epoch 71/100\n",
      "118/118 [==============================] - 44s 373ms/step - loss: 0.2974 - val_loss: 0.2983\n",
      "Epoch 72/100\n",
      "118/118 [==============================] - 53s 451ms/step - loss: 0.2970 - val_loss: 0.2979\n",
      "Epoch 73/100\n",
      "118/118 [==============================] - 53s 452ms/step - loss: 0.2967 - val_loss: 0.2975\n",
      "Epoch 74/100\n",
      "118/118 [==============================] - 53s 450ms/step - loss: 0.2963 - val_loss: 0.2972\n",
      "Epoch 75/100\n",
      "118/118 [==============================] - 54s 458ms/step - loss: 0.2960 - val_loss: 0.2968\n",
      "Epoch 76/100\n",
      "118/118 [==============================] - 54s 456ms/step - loss: 0.2956 - val_loss: 0.2965\n",
      "Epoch 77/100\n",
      "118/118 [==============================] - 54s 455ms/step - loss: 0.2953 - val_loss: 0.2961\n",
      "Epoch 78/100\n",
      "118/118 [==============================] - 54s 461ms/step - loss: 0.2950 - val_loss: 0.2958\n",
      "Epoch 79/100\n"
     ]
    },
    {
     "name": "stdout",
     "output_type": "stream",
     "text": [
      "118/118 [==============================] - 54s 461ms/step - loss: 0.2946 - val_loss: 0.2955\n",
      "Epoch 80/100\n",
      "118/118 [==============================] - 54s 460ms/step - loss: 0.2943 - val_loss: 0.2951\n",
      "Epoch 81/100\n",
      "118/118 [==============================] - 52s 439ms/step - loss: 0.2940 - val_loss: 0.2948\n",
      "Epoch 82/100\n",
      "118/118 [==============================] - 53s 452ms/step - loss: 0.2937 - val_loss: 0.2945\n",
      "Epoch 83/100\n",
      "118/118 [==============================] - 54s 461ms/step - loss: 0.2934 - val_loss: 0.2942\n",
      "Epoch 84/100\n",
      "118/118 [==============================] - 55s 464ms/step - loss: 0.2931 - val_loss: 0.2939\n",
      "Epoch 85/100\n",
      "118/118 [==============================] - 55s 468ms/step - loss: 0.2928 - val_loss: 0.2936\n",
      "Epoch 86/100\n",
      "118/118 [==============================] - 56s 472ms/step - loss: 0.2925 - val_loss: 0.2933\n",
      "Epoch 87/100\n",
      "118/118 [==============================] - 56s 474ms/step - loss: 0.2922 - val_loss: 0.2930\n",
      "Epoch 88/100\n",
      "118/118 [==============================] - 56s 478ms/step - loss: 0.2919 - val_loss: 0.2927\n",
      "Epoch 89/100\n",
      "118/118 [==============================] - 56s 476ms/step - loss: 0.2916 - val_loss: 0.2924\n",
      "Epoch 90/100\n",
      "118/118 [==============================] - 56s 474ms/step - loss: 0.2913 - val_loss: 0.2921\n",
      "Epoch 91/100\n",
      "118/118 [==============================] - 57s 479ms/step - loss: 0.2910 - val_loss: 0.2918\n",
      "Epoch 92/100\n",
      "118/118 [==============================] - 57s 481ms/step - loss: 0.2907 - val_loss: 0.2915\n",
      "Epoch 93/100\n",
      "118/118 [==============================] - 56s 475ms/step - loss: 0.2904 - val_loss: 0.2911\n",
      "Epoch 94/100\n",
      "118/118 [==============================] - 58s 489ms/step - loss: 0.2901 - val_loss: 0.2908\n",
      "Epoch 95/100\n",
      "118/118 [==============================] - 57s 480ms/step - loss: 0.2899 - val_loss: 0.2906\n",
      "Epoch 96/100\n",
      "118/118 [==============================] - 57s 487ms/step - loss: 0.2896 - val_loss: 0.2903\n",
      "Epoch 97/100\n",
      "118/118 [==============================] - 58s 495ms/step - loss: 0.2893 - val_loss: 0.2900\n",
      "Epoch 98/100\n",
      "118/118 [==============================] - 58s 493ms/step - loss: 0.2891 - val_loss: 0.2898\n",
      "Epoch 99/100\n",
      "118/118 [==============================] - 57s 485ms/step - loss: 0.2888 - val_loss: 0.2895\n",
      "Epoch 100/100\n",
      "118/118 [==============================] - 40s 342ms/step - loss: 0.2886 - val_loss: 0.2893\n"
     ]
    },
    {
     "data": {
      "text/plain": [
       "<tensorflow.python.keras.callbacks.History at 0x243a4c29d08>"
      ]
     },
     "execution_count": 87,
     "metadata": {},
     "output_type": "execute_result"
    }
   ],
   "source": [
    "autoencoder.fit(x_train, x_train, epochs=100,\n",
    "                    batch_size=512,\n",
    "                    shuffle=True,\n",
    "                    validation_data=(x_test, x_test))"
   ]
  },
  {
   "cell_type": "code",
   "execution_count": null,
   "metadata": {},
   "outputs": [],
   "source": []
  }
 ],
 "metadata": {
  "kernelspec": {
   "display_name": "Python 3",
   "language": "python",
   "name": "python3"
  },
  "language_info": {
   "codemirror_mode": {
    "name": "ipython",
    "version": 3
   },
   "file_extension": ".py",
   "mimetype": "text/x-python",
   "name": "python",
   "nbconvert_exporter": "python",
   "pygments_lexer": "ipython3",
   "version": "3.7.6"
  }
 },
 "nbformat": 4,
 "nbformat_minor": 4
}
